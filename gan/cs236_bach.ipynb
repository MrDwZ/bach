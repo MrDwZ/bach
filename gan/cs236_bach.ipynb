{
  "cells": [
    {
      "cell_type": "markdown",
      "metadata": {
        "id": "B8IdD1TxyAXk"
      },
      "source": [
        "# Download Data"
      ]
    },
    {
      "cell_type": "code",
      "execution_count": null,
      "metadata": {
        "id": "KqUKeyMA2_QI"
      },
      "outputs": [],
      "source": [
        "import logging\n",
        "# Create a logger object\n",
        "log = logging.getLogger(__name__)\n",
        "\n",
        "# Configure logging\n",
        "logging.basicConfig(level=logging.DEBUG,\n",
        "                    format='%(asctime)s - %(levelname)s - %(filename)s - %(funcName)s - %(lineno)d - %(message)s')\n"
      ]
    },
    {
      "cell_type": "code",
      "execution_count": null,
      "metadata": {
        "id": "wfDdfHyijvB1"
      },
      "outputs": [],
      "source": [
        "import pathlib\n",
        "dirs = [\n",
        "    './data/midi_files',\n",
        "    './data/training_data',\n",
        "    './data/training_data/reconstructed_midi',\n",
        "    './samples',\n",
        "    './checkpoints/lstm_vae',\n",
        "]\n",
        "\n",
        "for dir in dirs:\n",
        "  pathlib.Path(dir).mkdir(parents=True, exist_ok=True)"
      ]
    },
    {
      "cell_type": "code",
      "execution_count": null,
      "metadata": {
        "colab": {
          "base_uri": "https://localhost:8080/"
        },
        "id": "rFMDDUJ66PE2",
        "outputId": "2adcd5e8-aa93-488a-fdfd-2e6bf4d06f9f"
      },
      "outputs": [
        {
          "output_type": "stream",
          "name": "stdout",
          "text": [
            "Mounted at ./drive\n"
          ]
        }
      ],
      "source": [
        "from google.colab import drive\n",
        "drive.mount('./drive')"
      ]
    },
    {
      "cell_type": "markdown",
      "metadata": {
        "id": "UBbv0lWAQ6uz"
      },
      "source": [
        "# Train"
      ]
    },
    {
      "cell_type": "code",
      "execution_count": null,
      "metadata": {
        "id": "k4zKG0lpSMXq"
      },
      "outputs": [],
      "source": [
        "from torch import autograd, nn, optim\n",
        "from torchvision.utils import save_image\n",
        "import argparse\n",
        "import matplotlib.pyplot as plt\n",
        "import numpy as np\n",
        "import os\n",
        "import torch\n",
        "import torch.nn.functional as F\n"
      ]
    },
    {
      "cell_type": "markdown",
      "metadata": {
        "id": "qCFlJPDQRhd1"
      },
      "source": [
        "Some utility functions"
      ]
    },
    {
      "cell_type": "code",
      "execution_count": null,
      "metadata": {
        "id": "IiYq1ARfRWIF"
      },
      "outputs": [],
      "source": [
        "def duplicate(x, rep):\n",
        "    return x.expand(rep, *x.shape).reshape(-1, *x.shape[1:])\n",
        "\n",
        "def save_model_by_name(model, global_step):\n",
        "    save_dir = os.path.join(\"checkpoints\", model.name)\n",
        "    if not os.path.exists(save_dir):\n",
        "        os.makedirs(save_dir)\n",
        "    file_path = os.path.join(save_dir, \"model-{:05d}.pt\".format(global_step))\n",
        "    state = model.state_dict()\n",
        "    torch.save(state, file_path)\n",
        "    print(\"Saved to {}\".format(file_path))\n",
        "\n",
        "def reset_weights(m):\n",
        "    try:\n",
        "        m.reset_parameters()\n",
        "    except AttributeError:\n",
        "        pass\n",
        "\n",
        "def sample_gaussian(m, v):\n",
        "    z = torch.randn_like(m) * torch.sqrt(v) + m\n",
        "    return z\n",
        "\n",
        "def kl_normal(qm, qv, pm, pv):\n",
        "    element_wise = 0.5 * (\n",
        "         torch.log(pv) - torch.log(qv) + qv / pv + (qm - pm).pow(2) / pv - 1\n",
        "    )\n",
        "    kl = element_wise.sum(-1)\n",
        "    return kl"
      ]
    },
    {
      "cell_type": "markdown",
      "metadata": {
        "id": "VhMF2-elX-7e"
      },
      "source": [
        "Data Loader"
      ]
    },
    {
      "cell_type": "code",
      "execution_count": null,
      "metadata": {
        "colab": {
          "base_uri": "https://localhost:8080/"
        },
        "id": "cItTWsYSX6hP",
        "outputId": "c6c3d4a9-814a-49e8-aa8b-24e6f3893e52"
      },
      "outputs": [
        {
          "output_type": "stream",
          "name": "stdout",
          "text": [
            "Total number of data items: 19162\n",
            "Shape of each data: torch.Size([32, 129])\n",
            "Shape of each poly data: torch.Size([64, 4, 88])\n"
          ]
        }
      ],
      "source": [
        "import torch\n",
        "from torch.utils.data import Dataset, DataLoader\n",
        "import pickle\n",
        "\n",
        "seq_len = 32\n",
        "\n",
        "class SequenceDataset(Dataset):\n",
        "    def __init__(self, sequences):\n",
        "        self.sequences = sequences\n",
        "\n",
        "    def __len__(self):\n",
        "        return len(self.sequences)\n",
        "\n",
        "    def __getitem__(self, idx):\n",
        "        sequence = self.sequences[idx]\n",
        "        x = torch.tensor(sequence, dtype=torch.float32)  # Only Input sequence\n",
        "        return x\n",
        "\n",
        "\n",
        "def get_data_loader(file_path, batch_size=4, shuffle=True):\n",
        "    with open(file_path, \"rb\") as file:\n",
        "        sequences = pickle.load(file)\n",
        "\n",
        "    dataset = SequenceDataset(sequences)\n",
        "    dataloader = DataLoader(dataset, batch_size=batch_size, shuffle=shuffle)\n",
        "    return dataloader\n",
        "\n",
        "# Create the DataLoader\n",
        "dataloader = get_data_loader(\n",
        "    \"./drive/MyDrive/Colab Notebooks/32_note_sequences_filtered.pkl\", batch_size=1024, shuffle=True\n",
        ")\n",
        "\n",
        "total_data_items = len(dataloader.dataset)  # or len(dataloader.sampler) if a subset is used\n",
        "\n",
        "print(\"Total number of data items:\", total_data_items)\n",
        "\n",
        "dataiter = iter(dataloader)\n",
        "data = next(dataiter)\n",
        "print(\"Shape of each data:\", data[0].shape)\n",
        "\n",
        "poly_dataloader = get_data_loader(\n",
        "    \"./drive/MyDrive/Colab Notebooks/polyphonic_data_piano_vqvae.pkl\", batch_size=1024, shuffle=True\n",
        ")\n",
        "poly_dataiter = iter(poly_dataloader)\n",
        "poly_data = next(poly_dataiter)\n",
        "print(\"Shape of each poly data:\", poly_data[0].shape)"
      ]
    },
    {
      "cell_type": "markdown",
      "metadata": {
        "id": "C1cbd9s1rvg4"
      },
      "source": [
        "# GAN"
      ]
    },
    {
      "cell_type": "code",
      "execution_count": null,
      "metadata": {
        "id": "aJM-rGzyrxN0"
      },
      "outputs": [],
      "source": [
        "latent_dim = 64\n",
        "\n",
        "class Generator(nn.Module):\n",
        "    def __init__(self, input_dim, hidden_dim, output_dim, num_layers, num_heads):\n",
        "        super(Generator, self).__init__()\n",
        "        self.lstm = nn.LSTM(input_size=input_dim, hidden_size=hidden_dim, num_layers=num_layers, batch_first=True)\n",
        "        self.attention = nn.MultiheadAttention(embed_dim=hidden_dim, num_heads=num_heads)\n",
        "        self.fc = nn.Linear(hidden_dim, output_dim)\n",
        "        self.sigmoid = nn.Sigmoid()\n",
        "\n",
        "    def forward(self, x):\n",
        "        lstm_out, _ = self.lstm(x)\n",
        "        attn_out, _ = self.attention(lstm_out, lstm_out, lstm_out)\n",
        "        output = self.sigmoid(self.fc(attn_out)) * 128 + 1\n",
        "        return output\n",
        "\n",
        "class Discriminator(nn.Module):\n",
        "    def __init__(self, input_dim, hidden_dim, num_layers, num_heads):\n",
        "        super(Discriminator, self).__init__()\n",
        "        self.lstm = nn.LSTM(input_size=input_dim, hidden_size=hidden_dim, num_layers=num_layers, batch_first=True)\n",
        "        self.attention = nn.MultiheadAttention(embed_dim=hidden_dim, num_heads=num_heads)\n",
        "        self.fc = nn.Linear(hidden_dim, 1)\n",
        "\n",
        "    def forward(self, x):\n",
        "        lstm_out, _ = self.lstm(x)\n",
        "        # print(lstm_out.shape)\n",
        "        attn_out, _ = self.attention(lstm_out, lstm_out, lstm_out)\n",
        "        # print(attn_out.shape)\n",
        "        output = self.fc(attn_out)  # Use the last sequence output\n",
        "        return output"
      ]
    },
    {
      "cell_type": "code",
      "execution_count": null,
      "metadata": {
        "id": "xyBweFvDwcJK"
      },
      "outputs": [],
      "source": [
        "# Assuming Generator and Discriminator classes are defined as per your requirements\n",
        "hidden_dim = 1024\n",
        "output_dim = seq_len\n",
        "num_layers = 2\n",
        "num_heads = 4"
      ]
    },
    {
      "cell_type": "code",
      "execution_count": null,
      "metadata": {
        "id": "muDQHnvwweuj"
      },
      "outputs": [],
      "source": [
        "import torch.nn.utils as utils\n",
        "import matplotlib.pyplot as plt\n",
        "# def to_one_hot(tensor):\n",
        "#     max_indices = torch.argmax(tensor, dim=-2)\n",
        "#     one_hot = torch.nn.functional.one_hot(max_indices, num_classes=tensor.shape[2])\n",
        "#     return one_hot.float()\n",
        "# Device configuration\n",
        "device = torch.device(\"cuda\" if torch.cuda.is_available() else \"cpu\")\n",
        "\n",
        "def train(g_learning_rate, d_learning_rate, dataloader=dataloader, clip_value = 0.01, num_epochs=20):\n",
        "\n",
        "    g_losses = []\n",
        "    d_losses = []\n",
        "\n",
        "    # Initialize generator and discriminator\n",
        "    generator = Generator(\n",
        "        input_dim=latent_dim,\n",
        "        hidden_dim=hidden_dim*2,\n",
        "        output_dim=output_dim,\n",
        "        num_layers=num_layers*2,\n",
        "        num_heads=num_heads*2)\n",
        "    discriminator = Discriminator(\n",
        "        input_dim=seq_len,\n",
        "        hidden_dim=hidden_dim,\n",
        "        num_layers=num_layers,\n",
        "        num_heads=num_heads)\n",
        "    def print_grad_hook(module, grad_input, grad_output):\n",
        "      pass\n",
        "\n",
        "    for layer in generator.modules():\n",
        "        layer.register_backward_hook(print_grad_hook)\n",
        "    # Loss function\n",
        "    bce_logit_loss = nn.BCEWithLogitsLoss()\n",
        "    # Optimizers\n",
        "    optimizer_G = torch.optim.Adam(generator.parameters(), g_learning_rate, betas=(0.5, 0.999))\n",
        "    optimizer_D = torch.optim.Adam(discriminator.parameters(), d_learning_rate, betas=(0.5, 0.999))\n",
        "\n",
        "    generator.to(device)\n",
        "    discriminator.to(device)\n",
        "    bce_logit_loss.to(device)\n",
        "\n",
        "    def d_loss(real_data, i):\n",
        "      valid = torch.ones((real_data.size(0), 1), device=device)\n",
        "      fake = torch.zeros((real_data.size(0), 1), device=device)\n",
        "      z = torch.randn(real_data.size(0), latent_dim, device=device, requires_grad=True)\n",
        "      gen_data = generator(z)\n",
        "      # print(real_data.shape)\n",
        "      # bce_loss default reduction is mean\n",
        "      d_r = discriminator(real_data)\n",
        "      d_g = discriminator(gen_data)\n",
        "      return d_r.mean() - d_g.mean()\n",
        "\n",
        "    def g_loss(batch_size):\n",
        "      valid = torch.ones((batch_size, 1), device=device)\n",
        "      z = torch.randn(batch_size, latent_dim, device=device, requires_grad=True)\n",
        "\n",
        "      gen_data = generator(z)\n",
        "      g_loss = -discriminator(gen_data)\n",
        "      return g_loss.mean()\n",
        "\n",
        "    for epoch in range(num_epochs):\n",
        "        for i, real_data in enumerate(dataloader):\n",
        "            # real_data is of shape [batch, 64, 129]\n",
        "\n",
        "            real_data_label = torch.argmax(real_data, dim=-1).float().to(device)\n",
        "            real_data_label = real_data_label.view(real_data_label.shape[0], -1)\n",
        "            batch_size = real_data.size(0)\n",
        "\n",
        "            optimizer_D.zero_grad()\n",
        "            d_l = d_loss(real_data_label, i)\n",
        "            d_losses.append(d_l.item())\n",
        "            # Clip weights of discriminator\n",
        "            d_l.backward()\n",
        "            optimizer_D.step()\n",
        "            for p in discriminator.parameters():\n",
        "                p.data.clamp_(-clip_value, clip_value)\n",
        "\n",
        "            optimizer_G.zero_grad()\n",
        "            g_l = g_loss(batch_size)\n",
        "            g_losses.append(g_l.item())\n",
        "            g_l.backward()\n",
        "\n",
        "            for p in generator.parameters():\n",
        "                p.data.clamp_(-clip_value, clip_value)\n",
        "\n",
        "            optimizer_G.step()\n",
        "\n",
        "\n",
        "            if i % 10 == 0:\n",
        "                print(f\"[Epoch {epoch}/{num_epochs}] [Batch {i}] [D loss: {d_l.item()}] [G loss: {g_l.item()}]\")\n",
        "\n",
        "    plt.plot(g_losses, label = f\"g_loss_{g_learning_rate}\")\n",
        "    plt.plot(d_losses, label = f\"d_learning_rate {d_learning_rate}\")\n",
        "    plt.xlabel('Iteration')\n",
        "    plt.ylabel('Loss')\n",
        "    plt.title('Loss During Training')\n",
        "    plt.legend()\n",
        "    plt.show()\n",
        "\n",
        "    return generator, discriminator"
      ]
    },
    {
      "cell_type": "code",
      "source": [
        "generator, discriminator = train(g_learning_rate=1e-3, d_learning_rate=2e-3)"
      ],
      "metadata": {
        "id": "MGJmmK_63ssh",
        "colab": {
          "base_uri": "https://localhost:8080/",
          "height": 1000
        },
        "outputId": "e132126e-c9e2-4b7f-bbe0-b7c562f2229c"
      },
      "execution_count": null,
      "outputs": [
        {
          "output_type": "stream",
          "name": "stderr",
          "text": [
            "/usr/local/lib/python3.10/dist-packages/torch/nn/modules/module.py:1324: UserWarning: Using non-full backward hooks on a Module that does not return a single Tensor or a tuple of Tensors is deprecated and will be removed in future versions. This hook will be missing some of the grad_output. Please use register_full_backward_hook to get the documented behavior.\n",
            "  warnings.warn(\"Using non-full backward hooks on a Module that does not return a \"\n",
            "/usr/local/lib/python3.10/dist-packages/torch/nn/modules/module.py:1349: UserWarning: Using a non-full backward hook when outputs are generated by different autograd Nodes is deprecated and will be removed in future versions. This hook will be missing some grad_output. Please use register_full_backward_hook to get the documented behavior.\n",
            "  warnings.warn(\"Using a non-full backward hook when outputs are generated by different autograd Nodes \"\n",
            "/usr/local/lib/python3.10/dist-packages/torch/nn/modules/module.py:1359: UserWarning: Using a non-full backward hook when the forward contains multiple autograd Nodes is deprecated and will be removed in future versions. This hook will be missing some grad_input. Please use register_full_backward_hook to get the documented behavior.\n",
            "  warnings.warn(\"Using a non-full backward hook when the forward contains multiple autograd Nodes \"\n"
          ]
        },
        {
          "output_type": "stream",
          "name": "stdout",
          "text": [
            "[Epoch 0/20] [Batch 0] [D loss: 0.0005401559174060822] [G loss: 0.01805667206645012]\n",
            "[Epoch 0/20] [Batch 10] [D loss: -1163.3028564453125] [G loss: -562.9400024414062]\n",
            "[Epoch 1/20] [Batch 0] [D loss: 0.11052358150482178] [G loss: 1.1618890762329102]\n",
            "[Epoch 1/20] [Batch 10] [D loss: -0.259857714176178] [G loss: 0.7182719707489014]\n",
            "[Epoch 2/20] [Batch 0] [D loss: 1.0699970722198486] [G loss: -0.0478992834687233]\n",
            "[Epoch 2/20] [Batch 10] [D loss: -2.1429553031921387] [G loss: -0.675132155418396]\n",
            "[Epoch 3/20] [Batch 0] [D loss: -2.9548392295837402] [G loss: 3.145146369934082]\n",
            "[Epoch 3/20] [Batch 10] [D loss: -169.0009765625] [G loss: 577.9498291015625]\n",
            "[Epoch 4/20] [Batch 0] [D loss: -881.1881713867188] [G loss: -312.8342590332031]\n",
            "[Epoch 4/20] [Batch 10] [D loss: -995.1864624023438] [G loss: -481.3045959472656]\n",
            "[Epoch 5/20] [Batch 0] [D loss: -1514.32861328125] [G loss: -755.7755737304688]\n",
            "[Epoch 5/20] [Batch 10] [D loss: -730.7320556640625] [G loss: -129.7252960205078]\n",
            "[Epoch 6/20] [Batch 0] [D loss: -1171.08056640625] [G loss: -560.6788330078125]\n",
            "[Epoch 6/20] [Batch 10] [D loss: -1346.289794921875] [G loss: -658.4476318359375]\n",
            "[Epoch 7/20] [Batch 0] [D loss: -1436.531982421875] [G loss: -705.2742919921875]\n",
            "[Epoch 7/20] [Batch 10] [D loss: -1497.373779296875] [G loss: -742.642333984375]\n",
            "[Epoch 8/20] [Batch 0] [D loss: -1528.7210693359375] [G loss: -762.33251953125]\n",
            "[Epoch 8/20] [Batch 10] [D loss: -1560.635009765625] [G loss: -774.9063720703125]\n",
            "[Epoch 9/20] [Batch 0] [D loss: -1575.015380859375] [G loss: -791.4744262695312]\n",
            "[Epoch 9/20] [Batch 10] [D loss: -1594.59375] [G loss: -798.3260498046875]\n",
            "[Epoch 10/20] [Batch 0] [D loss: -1607.33642578125] [G loss: -803.572998046875]\n",
            "[Epoch 10/20] [Batch 10] [D loss: -1625.7874755859375] [G loss: -814.3809814453125]\n",
            "[Epoch 11/20] [Batch 0] [D loss: -1635.476318359375] [G loss: -816.8388671875]\n",
            "[Epoch 11/20] [Batch 10] [D loss: -1640.650390625] [G loss: -821.7250366210938]\n",
            "[Epoch 12/20] [Batch 0] [D loss: -1646.5093994140625] [G loss: -824.1934814453125]\n",
            "[Epoch 12/20] [Batch 10] [D loss: -1656.0382080078125] [G loss: -827.4056396484375]\n",
            "[Epoch 13/20] [Batch 0] [D loss: -1660.2294921875] [G loss: -828.410400390625]\n",
            "[Epoch 13/20] [Batch 10] [D loss: -1662.8726806640625] [G loss: -832.966796875]\n",
            "[Epoch 14/20] [Batch 0] [D loss: -1668.131591796875] [G loss: -835.07080078125]\n",
            "[Epoch 14/20] [Batch 10] [D loss: -1670.94091796875] [G loss: -839.390869140625]\n",
            "[Epoch 15/20] [Batch 0] [D loss: -1673.43896484375] [G loss: -838.5281982421875]\n",
            "[Epoch 15/20] [Batch 10] [D loss: -1679.957275390625] [G loss: -839.7139892578125]\n",
            "[Epoch 16/20] [Batch 0] [D loss: -1684.497314453125] [G loss: -843.5606689453125]\n",
            "[Epoch 16/20] [Batch 10] [D loss: -1687.127197265625] [G loss: -844.211669921875]\n",
            "[Epoch 17/20] [Batch 0] [D loss: -1686.5616455078125] [G loss: -844.9835205078125]\n",
            "[Epoch 17/20] [Batch 10] [D loss: -1692.393798828125] [G loss: -848.752685546875]\n",
            "[Epoch 18/20] [Batch 0] [D loss: -1696.22998046875] [G loss: -848.9267578125]\n",
            "[Epoch 18/20] [Batch 10] [D loss: -1696.436767578125] [G loss: -852.008544921875]\n",
            "[Epoch 19/20] [Batch 0] [D loss: -1702.293701171875] [G loss: -851.943359375]\n",
            "[Epoch 19/20] [Batch 10] [D loss: -1705.4263916015625] [G loss: -854.168701171875]\n"
          ]
        },
        {
          "output_type": "display_data",
          "data": {
            "text/plain": [
              "<Figure size 640x480 with 1 Axes>"
            ],
            "image/png": "[encoded data removed]"
          },
          "metadata": {}
        }
      ]
    },
    {
      "cell_type": "code",
      "source": [
        "seq_len = 256\n",
        "hidden_dim = 2048\n",
        "output_dim = seq_len\n",
        "num_layers = 4\n",
        "num_heads = 4\n",
        "\n",
        "# generator, discriminator = train(g_learning_rate=1e-4, d_learning_rate=2e-4, dataloader=poly_dataloader, clip_value = 0.01, num_epochs=100)"
      ],
      "metadata": {
        "colab": {
          "base_uri": "https://localhost:8080/",
          "height": 1000
        },
        "id": "GVx2b_fh3Ehx",
        "outputId": "2399d714-ecf1-4d7d-de1c-93030364fb8c"
      },
      "execution_count": null,
      "outputs": [
        {
          "output_type": "stream",
          "name": "stderr",
          "text": [
            "/usr/local/lib/python3.10/dist-packages/torch/nn/modules/module.py:1324: UserWarning: Using non-full backward hooks on a Module that does not return a single Tensor or a tuple of Tensors is deprecated and will be removed in future versions. This hook will be missing some of the grad_output. Please use register_full_backward_hook to get the documented behavior.\n",
            "  warnings.warn(\"Using non-full backward hooks on a Module that does not return a \"\n",
            "/usr/local/lib/python3.10/dist-packages/torch/nn/modules/module.py:1349: UserWarning: Using a non-full backward hook when outputs are generated by different autograd Nodes is deprecated and will be removed in future versions. This hook will be missing some grad_output. Please use register_full_backward_hook to get the documented behavior.\n",
            "  warnings.warn(\"Using a non-full backward hook when outputs are generated by different autograd Nodes \"\n",
            "/usr/local/lib/python3.10/dist-packages/torch/nn/modules/module.py:1359: UserWarning: Using a non-full backward hook when the forward contains multiple autograd Nodes is deprecated and will be removed in future versions. This hook will be missing some grad_input. Please use register_full_backward_hook to get the documented behavior.\n",
            "  warnings.warn(\"Using a non-full backward hook when the forward contains multiple autograd Nodes \"\n"
          ]
        },
        {
          "output_type": "stream",
          "name": "stdout",
          "text": [
            "[Epoch 0/100] [Batch 0] [D loss: -0.0003374171210452914] [G loss: -0.00046147897955961525]\n",
            "[Epoch 1/100] [Batch 0] [D loss: -0.001646299147978425] [G loss: -0.004102637991309166]\n",
            "[Epoch 2/100] [Batch 0] [D loss: -0.013810202479362488] [G loss: -0.010201084427535534]\n",
            "[Epoch 3/100] [Batch 0] [D loss: -0.11040351539850235] [G loss: 0.4551284909248352]\n",
            "[Epoch 4/100] [Batch 0] [D loss: -1.193878173828125] [G loss: -1.451712727546692]\n",
            "[Epoch 5/100] [Batch 0] [D loss: -14.481773376464844] [G loss: -5.985207557678223]\n",
            "[Epoch 6/100] [Batch 0] [D loss: -21.412803649902344] [G loss: 57.673831939697266]\n",
            "[Epoch 7/100] [Batch 0] [D loss: -0.15425491333007812] [G loss: 60.521846771240234]\n",
            "[Epoch 8/100] [Batch 0] [D loss: -2.934661865234375] [G loss: 7.545854091644287]\n",
            "[Epoch 9/100] [Batch 0] [D loss: -1.3300752639770508] [G loss: 33.21812057495117]\n",
            "[Epoch 10/100] [Batch 0] [D loss: -6.900058746337891] [G loss: 80.83372497558594]\n",
            "[Epoch 11/100] [Batch 0] [D loss: -1.2417755126953125] [G loss: 84.90193939208984]\n",
            "[Epoch 12/100] [Batch 0] [D loss: -2.369232177734375] [G loss: 63.31241226196289]\n",
            "[Epoch 13/100] [Batch 0] [D loss: -8.346668243408203] [G loss: 91.04168701171875]\n",
            "[Epoch 14/100] [Batch 0] [D loss: -9.72698974609375] [G loss: 58.256614685058594]\n",
            "[Epoch 15/100] [Batch 0] [D loss: -35.46562957763672] [G loss: -31.15028190612793]\n",
            "[Epoch 16/100] [Batch 0] [D loss: -186.2975311279297] [G loss: -58.96018600463867]\n",
            "[Epoch 17/100] [Batch 0] [D loss: -299.8088073730469] [G loss: -103.66211700439453]\n",
            "[Epoch 18/100] [Batch 0] [D loss: -444.0417175292969] [G loss: -169.60203552246094]\n",
            "[Epoch 19/100] [Batch 0] [D loss: -634.4383544921875] [G loss: -297.9372253417969]\n",
            "[Epoch 20/100] [Batch 0] [D loss: -888.5435180664062] [G loss: -520.3546142578125]\n",
            "[Epoch 21/100] [Batch 0] [D loss: -1240.62109375] [G loss: -786.1736450195312]\n",
            "[Epoch 22/100] [Batch 0] [D loss: -1655.3748779296875] [G loss: -1027.461669921875]\n",
            "[Epoch 23/100] [Batch 0] [D loss: -2064.627685546875] [G loss: -1240.615234375]\n",
            "[Epoch 24/100] [Batch 0] [D loss: -2464.5419921875] [G loss: -1445.126708984375]\n",
            "[Epoch 25/100] [Batch 0] [D loss: -2870.04443359375] [G loss: -1648.927490234375]\n",
            "[Epoch 26/100] [Batch 0] [D loss: -3281.67333984375] [G loss: -1855.4317626953125]\n",
            "[Epoch 27/100] [Batch 0] [D loss: -3698.38232421875] [G loss: -2064.7626953125]\n",
            "[Epoch 28/100] [Batch 0] [D loss: -4117.8564453125] [G loss: -2275.779541015625]\n",
            "[Epoch 29/100] [Batch 0] [D loss: -4538.00732421875] [G loss: -2487.136962890625]\n",
            "[Epoch 30/100] [Batch 0] [D loss: -4957.27099609375] [G loss: -2697.231689453125]\n",
            "[Epoch 31/100] [Batch 0] [D loss: -5373.44482421875] [G loss: -2905.866455078125]\n",
            "[Epoch 32/100] [Batch 0] [D loss: -5786.724609375] [G loss: -3114.493896484375]\n",
            "[Epoch 33/100] [Batch 0] [D loss: -6200.171875] [G loss: -3323.168212890625]\n",
            "[Epoch 34/100] [Batch 0] [D loss: -6613.7509765625] [G loss: -3531.927490234375]\n",
            "[Epoch 35/100] [Batch 0] [D loss: -7027.3671875] [G loss: -3740.3525390625]\n",
            "[Epoch 36/100] [Batch 0] [D loss: -7440.4443359375] [G loss: -3947.94189453125]\n",
            "[Epoch 37/100] [Batch 0] [D loss: -7852.876953125] [G loss: -4154.841796875]\n",
            "[Epoch 38/100] [Batch 0] [D loss: -8264.10546875] [G loss: -4361.0009765625]\n",
            "[Epoch 39/100] [Batch 0] [D loss: -8673.7041015625] [G loss: -4566.4052734375]\n",
            "[Epoch 40/100] [Batch 0] [D loss: -9081.578125] [G loss: -4770.96435546875]\n",
            "[Epoch 41/100] [Batch 0] [D loss: -9487.458984375] [G loss: -4974.3876953125]\n",
            "[Epoch 42/100] [Batch 0] [D loss: -9891.126953125] [G loss: -5176.54248046875]\n",
            "[Epoch 43/100] [Batch 0] [D loss: -10292.33984375] [G loss: -5377.34375]\n",
            "[Epoch 44/100] [Batch 0] [D loss: -10690.90625] [G loss: -5576.693359375]\n",
            "[Epoch 45/100] [Batch 0] [D loss: -11086.625] [G loss: -5774.49072265625]\n",
            "[Epoch 46/100] [Batch 0] [D loss: -11479.46875] [G loss: -5970.58642578125]\n",
            "[Epoch 47/100] [Batch 0] [D loss: -11869.2138671875] [G loss: -6165.1064453125]\n",
            "[Epoch 48/100] [Batch 0] [D loss: -12255.5693359375] [G loss: -6357.6767578125]\n",
            "[Epoch 49/100] [Batch 0] [D loss: -12638.2158203125] [G loss: -6548.44677734375]\n",
            "[Epoch 50/100] [Batch 0] [D loss: -13016.810546875] [G loss: -6737.09375]\n",
            "[Epoch 51/100] [Batch 0] [D loss: -13391.265625] [G loss: -6923.61572265625]\n",
            "[Epoch 52/100] [Batch 0] [D loss: -13761.498046875] [G loss: -7107.9130859375]\n",
            "[Epoch 53/100] [Batch 0] [D loss: -14127.31640625] [G loss: -7289.90771484375]\n",
            "[Epoch 54/100] [Batch 0] [D loss: -14488.5546875] [G loss: -7469.5185546875]\n",
            "[Epoch 55/100] [Batch 0] [D loss: -14845.046875] [G loss: -7646.576171875]\n",
            "[Epoch 56/100] [Batch 0] [D loss: -15196.453125] [G loss: -7820.54638671875]\n",
            "[Epoch 57/100] [Batch 0] [D loss: -15541.72265625] [G loss: -7990.3525390625]\n",
            "[Epoch 58/100] [Batch 0] [D loss: -15878.724609375] [G loss: -8154.6513671875]\n",
            "[Epoch 59/100] [Batch 0] [D loss: -16204.78515625] [G loss: -8312.0244140625]\n",
            "[Epoch 60/100] [Batch 0] [D loss: -16517.083984375] [G loss: -8453.1689453125]\n",
            "[Epoch 61/100] [Batch 0] [D loss: -16797.078125] [G loss: -8545.3310546875]\n",
            "[Epoch 62/100] [Batch 0] [D loss: -16979.4765625] [G loss: -8571.546875]\n",
            "[Epoch 63/100] [Batch 0] [D loss: -17030.484375] [G loss: -8575.4970703125]\n",
            "[Epoch 64/100] [Batch 0] [D loss: -17036.9765625] [G loss: -8577.201171875]\n",
            "[Epoch 65/100] [Batch 0] [D loss: -17039.017578125] [G loss: -8578.673828125]\n",
            "[Epoch 66/100] [Batch 0] [D loss: -17040.69140625] [G loss: -8579.947265625]\n",
            "[Epoch 67/100] [Batch 0] [D loss: -17042.16796875] [G loss: -8580.990234375]\n",
            "[Epoch 68/100] [Batch 0] [D loss: -17043.4140625] [G loss: -8581.6826171875]\n",
            "[Epoch 69/100] [Batch 0] [D loss: -17044.32421875] [G loss: -8582.1513671875]\n",
            "[Epoch 70/100] [Batch 0] [D loss: -17044.94921875] [G loss: -8582.5283203125]\n",
            "[Epoch 71/100] [Batch 0] [D loss: -17045.462890625] [G loss: -8582.8115234375]\n",
            "[Epoch 72/100] [Batch 0] [D loss: -17045.89453125] [G loss: -8583.033203125]\n",
            "[Epoch 73/100] [Batch 0] [D loss: -17046.2734375] [G loss: -8583.251953125]\n",
            "[Epoch 74/100] [Batch 0] [D loss: -17046.625] [G loss: -8583.474609375]\n",
            "[Epoch 75/100] [Batch 0] [D loss: -17046.95703125] [G loss: -8583.6513671875]\n",
            "[Epoch 76/100] [Batch 0] [D loss: -17047.26171875] [G loss: -8583.80859375]\n",
            "[Epoch 77/100] [Batch 0] [D loss: -17047.5546875] [G loss: -8583.98046875]\n",
            "[Epoch 78/100] [Batch 0] [D loss: -17047.83203125] [G loss: -8584.158203125]\n",
            "[Epoch 79/100] [Batch 0] [D loss: -17048.09375] [G loss: -8584.2978515625]\n",
            "[Epoch 80/100] [Batch 0] [D loss: -17048.34765625] [G loss: -8584.462890625]\n",
            "[Epoch 81/100] [Batch 0] [D loss: -17048.57421875] [G loss: -8584.6083984375]\n",
            "[Epoch 82/100] [Batch 0] [D loss: -17048.82421875] [G loss: -8584.72265625]\n",
            "[Epoch 83/100] [Batch 0] [D loss: -17049.048828125] [G loss: -8584.8154296875]\n",
            "[Epoch 84/100] [Batch 0] [D loss: -17049.26953125] [G loss: -8584.9111328125]\n",
            "[Epoch 85/100] [Batch 0] [D loss: -17049.474609375] [G loss: -8585.0244140625]\n",
            "[Epoch 86/100] [Batch 0] [D loss: -17049.67578125] [G loss: -8585.1171875]\n",
            "[Epoch 87/100] [Batch 0] [D loss: -17049.869140625] [G loss: -8585.201171875]\n",
            "[Epoch 88/100] [Batch 0] [D loss: -17050.0546875] [G loss: -8585.298828125]\n",
            "[Epoch 89/100] [Batch 0] [D loss: -17050.22265625] [G loss: -8585.3466796875]\n",
            "[Epoch 90/100] [Batch 0] [D loss: -17050.388671875] [G loss: -8585.39453125]\n",
            "[Epoch 91/100] [Batch 0] [D loss: -17050.55078125] [G loss: -8585.4580078125]\n",
            "[Epoch 92/100] [Batch 0] [D loss: -17050.703125] [G loss: -8585.525390625]\n",
            "[Epoch 93/100] [Batch 0] [D loss: -17050.84765625] [G loss: -8585.5673828125]\n",
            "[Epoch 94/100] [Batch 0] [D loss: -17050.98828125] [G loss: -8585.6318359375]\n",
            "[Epoch 95/100] [Batch 0] [D loss: -17051.126953125] [G loss: -8585.7451171875]\n",
            "[Epoch 96/100] [Batch 0] [D loss: -17051.25390625] [G loss: -8585.853515625]\n",
            "[Epoch 97/100] [Batch 0] [D loss: -17051.3828125] [G loss: -8585.962890625]\n",
            "[Epoch 98/100] [Batch 0] [D loss: -17051.51171875] [G loss: -8585.740234375]\n",
            "[Epoch 99/100] [Batch 0] [D loss: -17051.3984375] [G loss: -8586.03515625]\n"
          ]
        },
        {
          "output_type": "display_data",
          "data": {
            "text/plain": [
              "<Figure size 640x480 with 1 Axes>"
            ],
            "image/png": "[encoded data removed]"
          },
          "metadata": {}
        }
      ]
    },
    {
      "cell_type": "markdown",
      "source": [],
      "metadata": {
        "id": "H2hoVjXd-D4p"
      }
    },
    {
      "cell_type": "code",
      "execution_count": null,
      "metadata": {
        "id": "ydCyA86uz0-g",
        "colab": {
          "base_uri": "https://localhost:8080/"
        },
        "outputId": "76d2e8c5-65a9-497b-a7f8-ca8066a084e0"
      },
      "outputs": [
        {
          "output_type": "stream",
          "name": "stdout",
          "text": [
            "Requirement already satisfied: pretty_midi in /usr/local/lib/python3.10/dist-packages (0.2.10)\n",
            "Requirement already satisfied: numpy>=1.7.0 in /usr/local/lib/python3.10/dist-packages (from pretty_midi) (1.23.5)\n",
            "Requirement already satisfied: mido>=1.1.16 in /usr/local/lib/python3.10/dist-packages (from pretty_midi) (1.3.0)\n",
            "Requirement already satisfied: six in /usr/local/lib/python3.10/dist-packages (from pretty_midi) (1.16.0)\n",
            "Requirement already satisfied: packaging~=23.1 in /usr/local/lib/python3.10/dist-packages (from mido>=1.1.16->pretty_midi) (23.2)\n",
            "tensor([[66.7503, 62.7334, 64.0923, 63.5546, 66.2429, 62.0735, 66.9547, 62.7279,\n",
            "         67.2598, 64.3765, 65.7589, 66.4545, 67.0734, 63.0185, 63.1048, 66.3514,\n",
            "         66.1070, 66.5949, 67.2669, 66.6134, 62.5315, 63.9309, 66.8063, 63.6896,\n",
            "         63.9391, 66.8156, 63.4590, 66.8839, 63.2479, 63.2627, 66.0853, 63.5625,\n",
            "         63.1265, 61.9531, 66.5346, 66.3667, 63.7738, 62.5898, 63.4038, 66.5332,\n",
            "         68.0265, 67.0194, 66.3097, 66.5249, 66.3531, 63.6391, 67.8008, 65.8258,\n",
            "         62.7805, 67.0138, 65.9971, 66.5871, 63.5806, 62.7562, 63.8433, 66.0784,\n",
            "         66.5356, 63.7617, 63.4475, 63.6600, 63.0186, 63.6765, 66.1191, 63.5358,\n",
            "         63.6612, 66.2254, 66.1495, 62.8745, 67.2056, 67.1982, 63.0046, 65.9548,\n",
            "         67.2999, 66.4028, 63.2928, 66.2892, 66.8540, 63.7900, 66.7704, 63.5635,\n",
            "         66.7316, 63.2905, 57.9201, 63.2731, 65.2285, 62.9824, 66.5334, 63.3614,\n",
            "         66.6871, 65.7804, 66.7626, 63.3199, 67.9419, 67.8472, 63.5964, 63.0780,\n",
            "         66.2304, 64.2824, 66.3353, 66.9793, 63.3337, 67.2207, 65.6804, 67.7323,\n",
            "         66.5834, 66.3542, 67.1054, 63.5390, 63.2679, 63.2304, 63.4490, 66.3166,\n",
            "         72.0506, 63.2555, 66.1949, 62.5697, 63.5902, 67.2899, 63.0564, 63.0043,\n",
            "         62.8363, 63.5519, 66.9066, 63.0084, 63.1376, 66.3394, 63.0333, 63.2048,\n",
            "         66.9268, 63.0467, 67.0862, 66.1067, 62.7993, 66.8591, 66.6824, 63.4015,\n",
            "         65.7183, 66.1119, 63.9682, 66.8080, 67.1586, 66.5291, 65.3568, 62.8792,\n",
            "         64.4871, 63.3967, 67.7298, 66.9009, 63.4505, 62.9255, 66.9043, 66.3211,\n",
            "         63.9827, 66.5261, 63.2330, 63.5573, 67.4830, 63.6703, 67.3322, 67.1105,\n",
            "         64.0317, 66.5433, 62.7314, 63.4999, 63.4335, 62.6718, 66.6156, 69.1430,\n",
            "         67.8126, 64.5686, 66.8618, 63.3887, 63.7794, 63.5956, 66.2173, 64.6925,\n",
            "         66.5354, 66.6655, 66.9639, 62.9707, 67.0337, 66.4945, 63.1247, 66.4528,\n",
            "         62.6534, 66.6448, 61.2738, 66.2357, 63.6135, 67.0104, 64.6982, 66.5372,\n",
            "         64.1235, 66.9502, 63.1807, 66.8499, 63.6158, 63.3178, 66.6846, 63.2007,\n",
            "         66.6402, 65.7510, 63.0550, 67.1684, 63.2569, 63.5874, 63.5420, 67.2040,\n",
            "         65.4036, 63.2206, 66.7664, 67.2625, 62.6951, 63.1709, 66.3324, 66.3698,\n",
            "         67.5472, 66.6416, 67.1454, 66.8433, 63.1603, 66.8224, 66.8049, 66.6605,\n",
            "         67.5535, 66.3962, 66.7254, 66.8555, 63.1176, 67.0747, 66.4854, 67.5247,\n",
            "         67.2587, 63.7448, 62.9292, 63.9324, 66.0559, 66.7781, 66.6860, 63.3729,\n",
            "         63.8009, 63.0109, 64.1009, 66.1953, 67.1407, 63.0840, 66.9228, 66.2641,\n",
            "         64.0351, 64.0172, 63.9938, 63.8619, 62.7690, 68.3370, 63.8098, 66.2363]],\n",
            "       device='cuda:0')\n"
          ]
        }
      ],
      "source": [
        "def convert_to_one_hot(labels, num_classes):\n",
        "    labels = torch.round(labels).to(torch.int64)\n",
        "\n",
        "    flat_labels = labels.view(-1)  # Shape: [batch * 32]\n",
        "    one_hot_flat = F.one_hot(flat_labels, num_classes=num_classes)\n",
        "\n",
        "    # Reshape back to [batch, 32, num_classes]\n",
        "    one_hot = one_hot_flat.view(*labels.shape, num_classes)\n",
        "    return one_hot\n",
        "\n",
        "! pip install pretty_midi\n",
        "import pretty_midi\n",
        "\n",
        "def reconstruct_midi_from_multihot_seq(\n",
        "    seq, output_midi_path, sixteenth_note_duration=0.15\n",
        "):\n",
        "    \"\"\"\n",
        "    Reconstruct a MIDI file from a multi-hot encoded sequence.\n",
        "\n",
        "    :param seq: A numpy array of shape [seq_len, 88] representing the multi-hot encoded sequence.\n",
        "    :param output_midi_path: Path where the reconstructed MIDI file will be saved.\n",
        "    :param sixteenth_note_duration: Duration of a sixteenth note in seconds.\n",
        "    \"\"\"\n",
        "    # Create a PrettyMIDI object\n",
        "    midi = pretty_midi.PrettyMIDI()\n",
        "    piano_program = pretty_midi.instrument_name_to_program(\"Acoustic Grand Piano\")\n",
        "    piano = pretty_midi.Instrument(program=piano_program)\n",
        "\n",
        "    for time_step in range(seq.shape[0]):  # For each timestep (256)\n",
        "        for note in range(seq.shape[1]):  # For each note in the timestep (88)\n",
        "            if seq[time_step, note] == 1:\n",
        "                # Calculate the start and end times of the note\n",
        "                start_time = time_step * sixteenth_note_duration\n",
        "                end_time = start_time + sixteenth_note_duration\n",
        "\n",
        "                # Create a Note object and add it to the piano instrument\n",
        "                midi_note = pretty_midi.Note(\n",
        "                    velocity=100,  # Adjust the velocity if needed\n",
        "                    pitch=note + 21,  # Offset by 21 to match the MIDI pitch\n",
        "                    start=start_time,\n",
        "                    end=end_time,\n",
        "                )\n",
        "                piano.notes.append(midi_note)\n",
        "\n",
        "    # Add the piano instrument to the PrettyMIDI object\n",
        "    midi.instruments.append(piano)\n",
        "\n",
        "    # Write out the MIDI data to the output file\n",
        "    midi.write(output_midi_path)\n",
        "\n",
        "def convert_to_multi_hot(labels, group = 4):\n",
        "    labels = torch.round(labels).to(torch.int64)\n",
        "    labels = labels.view(-1,4)\n",
        "    multi_hot_tensor = torch.zeros(64, 88, dtype=torch.int)\n",
        "    # Iterate through each row and column in the original tensor\n",
        "    for i in range(labels.shape[0]):\n",
        "      for j in range(labels.shape[1]):\n",
        "        # Set the corresponding index in the multi-hot tensor to 1\n",
        "        idx = labels[i, j]\n",
        "        multi_hot_tensor[i, idx] = 1\n",
        "    return multi_hot_tensor\n",
        "\n",
        "\n",
        "num_samples = 1 # num of measures\n",
        "noise = torch.randn(num_samples, latent_dim).to(device)\n",
        "generator.eval()\n",
        "\n",
        "with torch.no_grad():\n",
        "    gen_data = generator(noise).view(1, -1)\n",
        "    print(gen_data)\n",
        "    generated_samples = convert_to_multi_hot(gen_data, 4)\n",
        "    reconstruct_midi_from_multihot_seq(generated_samples.detach(), \"./samples/sample.mid\", 0.5)\n",
        "    # reconstruct_midi_from_vectors(generated_samples.detach().tolist(), \"./samples/sample.mid\", 0.20)"
      ]
    }
  ],
  "metadata": {
    "accelerator": "GPU",
    "colab": {
      "machine_shape": "hm",
      "provenance": [],
      "gpuType": "V100"
    },
    "kernelspec": {
      "display_name": "Python 3",
      "name": "python3"
    },
    "language_info": {
      "name": "python"
    }
  },
  "nbformat": 4,
  "nbformat_minor": 0
}